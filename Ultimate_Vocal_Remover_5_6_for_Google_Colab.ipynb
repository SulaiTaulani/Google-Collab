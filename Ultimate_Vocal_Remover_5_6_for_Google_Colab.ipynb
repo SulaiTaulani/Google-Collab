{
  "cells": [
    {
      "cell_type": "markdown",
      "metadata": {
        "id": "view-in-github",
        "colab_type": "text"
      },
      "source": [
        "<a href=\"https://colab.research.google.com/github/SulaiTaulani/Google-Collab/blob/main/Ultimate_Vocal_Remover_5_6_for_Google_Colab.ipynb\" target=\"_parent\"><img src=\"https://colab.research.google.com/assets/colab-badge.svg\" alt=\"Open In Colab\"/></a>"
      ]
    },
    {
      "cell_type": "markdown",
      "source": [
        "# <medium>🎵 Ultimate Vocal Remover 5.6 for Google Colab 🎵"
      ],
      "metadata": {
        "id": "OXrecTUXAd5p"
      }
    },
    {
      "cell_type": "markdown",
      "source": [
        " Colab created by [Not Eddy (Spanish Mod)](http://discord.com/users/274566299349155851) in [AI HUB](https://discord.gg/aihub) server.\n",
        "\n",
        "<br>You can also use this into a Hugging Face Space [here](https://huggingface.co/spaces/Eddycrack864/UVR5). If you liked the space and colab you can give it a 💖 and star my repo on [GitHub](https://github.com/Eddycrack864/UVR5-5.6-for-Colab).<br>\n",
        "\n",
        "<br>Thanks to: [Hina](https://github.com/hinabl), [r3gm](https://github.com/R3gm) and [Anjok07](https://github.com/Anjok07)<br>\n",
        "\n",
        "<br>Subprocess code by: [Blane187](https://github.com/Blane187)<br>\n",
        "\n",
        "\n",
        "\n",
        "<medium><br>You can donate to the original UVR5 project here:<br>\n",
        "\n",
        "\n",
        "\n",
        "[![\"Buy Me A Coffee\"](https://www.buymeacoffee.com/assets/img/custom_images/orange_img.png)](https://www.buymeacoffee.com/uvr5)"
      ],
      "metadata": {
        "id": "_1osUVi0IxoR"
      }
    },
    {
      "cell_type": "code",
      "execution_count": null,
      "metadata": {
        "cellView": "form",
        "id": "Fu26OSlq9dsA"
      },
      "outputs": [],
      "source": [
        "#@markdown ### **Install**\n",
        "#@markdown **This takes around 10 minutes**\n",
        "from IPython.display import clear_output\n",
        "import codecs\n",
        "import subprocess\n",
        "gitrepo = codecs.decode('uggcf://tvguho.pbz/Rqqlpenpx864/Hygvzngr-Ibpny-Erzbire-5.6-sbe-Tbbtyr-Pbyno.tvg','rot_13')\n",
        "reponame = codecs.decode('Hygvzngr-Ibpny-Erzbire-5.6-sbe-Tbbtyr-Pbyno','rot_13')\n",
        "!git clone $gitrepo\n",
        "%cd $reponame\n",
        "print(\"Installing.... \")\n",
        "\n",
        "# Install requirements\n",
        "subprocess.run([\"pip\", \"install\", \"-r\", \"requirements.txt\"])\n",
        "\n",
        "# Install/update torch and torchaudio\n",
        "subprocess.run([\"pip\", \"install\", \"-U\", \"torch\", \"torchaudio\", \"--no-cache-dir\"])\n",
        "\n",
        "# Install ONNX Runtime nightly build for GPU\n",
        "subprocess.run([\"python\", \"-m\", \"pip\", \"install\", \"ort-nightly-gpu\", \"--index-url=https://aiinfra.pkgs.visualstudio.com/PublicPackages/_packaging/ort-cuda-12-nightly/pypi/simple/\"])\n",
        "\n",
        "# Install aria2\n",
        "subprocess.run([\"sudo\", \"apt\", \"install\", \"aria2\"])\n",
        "\n",
        "\n",
        "clear_output()\n",
        "print(\"Installation Completed!!!\")"
      ]
    },
    {
      "cell_type": "code",
      "execution_count": null,
      "metadata": {
        "id": "TXNqGZcWJmW-",
        "outputId": "7c861801-5b40-48dd-efe9-852fba4e737a",
        "colab": {
          "base_uri": "https://localhost:8080/"
        }
      },
      "outputs": [
        {
          "metadata": {
            "tags": null
          },
          "name": "stdout",
          "output_type": "stream",
          "text": [
            "Complete VIP model download!!!\n",
            "2024-11-14 06:27:30,241 - UVR BEGIN\n",
            "Downloading models...\n",
            "IMPORTANT: You are using gradio version 3.48.0, however version 4.44.1 is available, please upgrade.\n",
            "--------\n",
            "Models downloaded successfully!!!\n",
            "Starting WebUI...\n",
            "Running on local URL:  http://127.0.0.1:7860\n",
            "IMPORTANT: You are using gradio version 3.48.0, however version 4.44.1 is available, please upgrade.\n",
            "--------\n",
            "Running on public URL: https://5dca01fc39ea86e816.gradio.live\n",
            "\n",
            "This share link expires in 72 hours. For free permanent hosting and GPU upgrades, run `gradio deploy` from Terminal to deploy to Spaces (https://huggingface.co/spaces)\n"
          ]
        }
      ],
      "source": [
        "#@markdown ### **WebUI**\n",
        "#@markdown **If you want to use the UVR5 VIP models, check the box below**\n",
        "import codecs\n",
        "vip = codecs.decode('ivc_zbqryf.cl','rot_13')\n",
        "app = codecs.decode('jroHV.cl','rot_13')\n",
        "vip_models=True #@param {type:\"boolean\"}\n",
        "if vip_models:\n",
        "    print(\"Downloading VIP models...\")\n",
        "    !python $vip\n",
        "    clear_output()\n",
        "    print(\"Complete VIP model download!!!\")\n",
        "\n",
        "!python $app"
      ]
    }
  ],
  "metadata": {
    "accelerator": "GPU",
    "colab": {
      "provenance": [],
      "include_colab_link": true
    },
    "kernelspec": {
      "display_name": "Python 3",
      "name": "python3"
    },
    "language_info": {
      "name": "python"
    }
  },
  "nbformat": 4,
  "nbformat_minor": 0
}